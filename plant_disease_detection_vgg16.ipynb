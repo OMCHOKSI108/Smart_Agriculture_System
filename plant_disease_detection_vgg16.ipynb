{
  "metadata": {
    "kernelspec": {
      "display_name": "Python 3",
      "name": "python3"
    },
    "language_info": {
      "name": "python",
      "version": "3.7.6",
      "mimetype": "text/x-python",
      "codemirror_mode": {
        "name": "ipython",
        "version": 3
      },
      "pygments_lexer": "ipython3",
      "nbconvert_exporter": "python",
      "file_extension": ".py"
    },
    "colab": {
      "provenance": [],
      "gpuType": "T4",
      "include_colab_link": true
    },
    "accelerator": "GPU"
  },
  "nbformat_minor": 0,
  "nbformat": 4,
  "cells": [
    {
      "cell_type": "markdown",
      "metadata": {
        "id": "view-in-github",
        "colab_type": "text"
      },
      "source": [
        "<a href=\"https://colab.research.google.com/github/haripatel07/Smart_Agriculture_System/blob/main/plant_disease_detection_vgg16.ipynb\" target=\"_parent\"><img src=\"https://colab.research.google.com/assets/colab-badge.svg\" alt=\"Open In Colab\"/></a>"
      ]
    },
    {
      "cell_type": "markdown",
      "source": [
        "# Loading the Packages"
      ],
      "metadata": {
        "id": "OmqRd00ZGyjD"
      }
    },
    {
      "cell_type": "code",
      "source": [
        "import numpy as np  # Linear algebra\n",
        "import pandas as pd  # Data processing, CSV file I/O\n",
        "import seaborn as sns\n",
        "import sys\n",
        "import os\n",
        "import keras\n",
        "from numpy import load\n",
        "import matplotlib.pyplot as plt  # Fixed matplotlib import\n",
        "from sklearn.model_selection import train_test_split\n",
        "from keras import backend\n",
        "from keras.layers import Dense, Flatten, Dropout, Conv2D, MaxPooling2D, BatchNormalization\n",
        "from keras.models import Sequential, Model\n",
        "from keras.optimizers import SGD\n",
        "from tensorflow.keras.applications import VGG16  # Fixed import\n",
        "from tensorflow.keras.preprocessing.image import ImageDataGenerator, load_img, img_to_array  # Fixed imports\n"
      ],
      "metadata": {
        "_uuid": "8f2839f25d086af736a60e9eeb907d3b93b6e0e5",
        "_cell_guid": "b1076dfc-b9ad-4769-8c92-a6c4dae69d19",
        "execution": {
          "iopub.status.busy": "2024-03-08T05:23:31.609206Z",
          "iopub.execute_input": "2024-03-08T05:23:31.609540Z",
          "iopub.status.idle": "2024-03-08T05:23:36.621906Z",
          "shell.execute_reply.started": "2024-03-08T05:23:31.609513Z",
          "shell.execute_reply": "2024-03-08T05:23:36.621143Z"
        },
        "trusted": true,
        "id": "a4S5f0-vGyjO"
      },
      "execution_count": 1,
      "outputs": []
    },
    {
      "cell_type": "markdown",
      "source": [
        "# Image Preprocessing"
      ],
      "metadata": {
        "id": "L4uahOowGyjY"
      }
    },
    {
      "cell_type": "code",
      "source": [
        "# plant_village = Dataset(\"/kaggle/input/plant-village-dataset/PlantVillageDataset/PlantVillage/PlantVillage\")\n",
        "\n",
        "import kagglehub\n",
        "\n",
        "# Download latest version\n",
        "path = kagglehub.dataset_download(\"emmarex/plantdisease\")\n",
        "\n",
        "print(\"Path to dataset files:\", path)"
      ],
      "metadata": {
        "colab": {
          "base_uri": "https://localhost:8080/"
        },
        "id": "nRF0I9dPHKIl",
        "outputId": "98380ca4-cd96-4981-e6d4-5e3430983369"
      },
      "execution_count": 2,
      "outputs": [
        {
          "output_type": "stream",
          "name": "stdout",
          "text": [
            "Downloading from https://www.kaggle.com/api/v1/datasets/download/emmarex/plantdisease?dataset_version_number=1...\n"
          ]
        },
        {
          "output_type": "stream",
          "name": "stderr",
          "text": [
            "100%|██████████| 658M/658M [00:04<00:00, 172MB/s]"
          ]
        },
        {
          "output_type": "stream",
          "name": "stdout",
          "text": [
            "Extracting files...\n"
          ]
        },
        {
          "output_type": "stream",
          "name": "stderr",
          "text": [
            "\n"
          ]
        },
        {
          "output_type": "stream",
          "name": "stdout",
          "text": [
            "Path to dataset files: /root/.cache/kagglehub/datasets/emmarex/plantdisease/versions/1\n"
          ]
        }
      ]
    },
    {
      "cell_type": "code",
      "source": [
        "import os\n",
        "import shutil\n",
        "import random\n",
        "\n",
        "# Source dataset path\n",
        "dataset_path = \"/root/.cache/kagglehub/datasets/emmarex/plantdisease/versions/1/PlantVillage\"\n",
        "base_dir = \"/root/plant_village_split\"\n",
        "\n",
        "train_dir = os.path.join(base_dir, \"train\")\n",
        "val_dir = os.path.join(base_dir, \"val\")\n",
        "test_dir = os.path.join(base_dir, \"test\")\n",
        "\n",
        "for directory in [train_dir, val_dir, test_dir]:\n",
        "    os.makedirs(directory, exist_ok=True)\n",
        "\n",
        "# Split dataset\n",
        "split_ratio = {\"train\": 0.7, \"val\": 0.15, \"test\": 0.15}\n",
        "\n",
        "for category in os.listdir(dataset_path):\n",
        "    category_path = os.path.join(dataset_path, category)\n",
        "\n",
        "    if not os.path.isdir(category_path):\n",
        "        continue  # Skip non-directory files\n",
        "\n",
        "    images = os.listdir(category_path)\n",
        "    random.shuffle(images)\n",
        "\n",
        "    train_split = int(split_ratio[\"train\"] * len(images))\n",
        "    val_split = int(split_ratio[\"val\"] * len(images))\n",
        "\n",
        "    sets = {\n",
        "        \"train\": images[:train_split],\n",
        "        \"val\": images[train_split:train_split + val_split],\n",
        "        \"test\": images[train_split + val_split:]\n",
        "    }\n",
        "\n",
        "    for set_type, image_list in sets.items():\n",
        "        set_dir = os.path.join(base_dir, set_type, category)\n",
        "        os.makedirs(set_dir, exist_ok=True)\n",
        "\n",
        "        for img in image_list:\n",
        "            src_path = os.path.join(category_path, img)\n",
        "            dest_path = os.path.join(set_dir, img)\n",
        "            shutil.copy(src_path, dest_path)\n",
        "\n",
        "print(\"Dataset split completed.\")\n"
      ],
      "metadata": {
        "colab": {
          "base_uri": "https://localhost:8080/"
        },
        "id": "IzGZ42RaHKaf",
        "outputId": "f7797a5f-4fdf-470e-8447-90cc389fffa5"
      },
      "execution_count": 3,
      "outputs": [
        {
          "output_type": "stream",
          "name": "stdout",
          "text": [
            "Dataset split completed.\n"
          ]
        }
      ]
    },
    {
      "cell_type": "code",
      "source": [
        "from tensorflow.keras.preprocessing.image import ImageDataGenerator\n",
        "\n",
        "traindir = \"/root/plant_village_split/train\"\n",
        "validdir = \"/root/plant_village_split/val\"\n",
        "testdir = \"/root/plant_village_split/test\"\n",
        "\n",
        "train_datagen = ImageDataGenerator(rescale=1./255,\n",
        "                                   shear_range=0.2,\n",
        "                                   zoom_range=0.2,\n",
        "                                   width_shift_range=0.2,\n",
        "                                   height_shift_range=0.2,\n",
        "                                   fill_mode='nearest')\n",
        "\n",
        "valid_datagen = ImageDataGenerator(rescale=1./255)\n",
        "\n",
        "batch_size = 128\n",
        "\n",
        "training_set = train_datagen.flow_from_directory(traindir,\n",
        "                                                 target_size=(224, 224),\n",
        "                                                 batch_size=batch_size,\n",
        "                                                 class_mode='categorical')\n",
        "\n",
        "valid_set = valid_datagen.flow_from_directory(validdir,\n",
        "                                              target_size=(224, 224),\n",
        "                                              batch_size=batch_size,\n",
        "                                              class_mode='categorical')\n"
      ],
      "metadata": {
        "_uuid": "d629ff2d2480ee46fbb7e2d37f6b5fab8052498a",
        "_cell_guid": "79c7e3d0-c299-4dcb-8224-4455121ee9b0",
        "execution": {
          "iopub.status.busy": "2024-03-08T05:25:41.830631Z",
          "iopub.execute_input": "2024-03-08T05:25:41.831018Z",
          "iopub.status.idle": "2024-03-08T05:25:46.698803Z",
          "shell.execute_reply.started": "2024-03-08T05:25:41.830987Z",
          "shell.execute_reply": "2024-03-08T05:25:46.698078Z"
        },
        "trusted": true,
        "colab": {
          "base_uri": "https://localhost:8080/"
        },
        "id": "nsliPN_JGyja",
        "outputId": "000fca1a-e9a3-4b84-c35b-1564371d5170"
      },
      "execution_count": 4,
      "outputs": [
        {
          "output_type": "stream",
          "name": "stdout",
          "text": [
            "Found 14440 images belonging to 15 classes.\n",
            "Found 3089 images belonging to 15 classes.\n"
          ]
        }
      ]
    },
    {
      "cell_type": "code",
      "source": [
        "class_dict = training_set.class_indices\n",
        "print(class_dict)"
      ],
      "metadata": {
        "execution": {
          "iopub.status.busy": "2024-03-08T05:25:53.505168Z",
          "iopub.execute_input": "2024-03-08T05:25:53.505498Z",
          "iopub.status.idle": "2024-03-08T05:25:53.510169Z",
          "shell.execute_reply.started": "2024-03-08T05:25:53.505463Z",
          "shell.execute_reply": "2024-03-08T05:25:53.509056Z"
        },
        "trusted": true,
        "colab": {
          "base_uri": "https://localhost:8080/"
        },
        "id": "1sMVVknTGyjc",
        "outputId": "a086e984-7032-4ad5-f6db-5785b2fbbc35"
      },
      "execution_count": 5,
      "outputs": [
        {
          "output_type": "stream",
          "name": "stdout",
          "text": [
            "{'Pepper__bell___Bacterial_spot': 0, 'Pepper__bell___healthy': 1, 'Potato___Early_blight': 2, 'Potato___Late_blight': 3, 'Potato___healthy': 4, 'Tomato_Bacterial_spot': 5, 'Tomato_Early_blight': 6, 'Tomato_Late_blight': 7, 'Tomato_Leaf_Mold': 8, 'Tomato_Septoria_leaf_spot': 9, 'Tomato_Spider_mites_Two_spotted_spider_mite': 10, 'Tomato__Target_Spot': 11, 'Tomato__Tomato_YellowLeaf__Curl_Virus': 12, 'Tomato__Tomato_mosaic_virus': 13, 'Tomato_healthy': 14}\n"
          ]
        }
      ]
    },
    {
      "cell_type": "code",
      "source": [
        "li = list(class_dict.keys())\n",
        "print(li)"
      ],
      "metadata": {
        "execution": {
          "iopub.status.busy": "2024-03-08T05:25:57.126313Z",
          "iopub.execute_input": "2024-03-08T05:25:57.126682Z",
          "iopub.status.idle": "2024-03-08T05:25:57.131716Z",
          "shell.execute_reply.started": "2024-03-08T05:25:57.126649Z",
          "shell.execute_reply": "2024-03-08T05:25:57.130685Z"
        },
        "trusted": true,
        "colab": {
          "base_uri": "https://localhost:8080/"
        },
        "id": "fa9X2EzDGyjd",
        "outputId": "9b5f827e-0b1e-4637-dedd-5749d10bcf74"
      },
      "execution_count": 6,
      "outputs": [
        {
          "output_type": "stream",
          "name": "stdout",
          "text": [
            "['Pepper__bell___Bacterial_spot', 'Pepper__bell___healthy', 'Potato___Early_blight', 'Potato___Late_blight', 'Potato___healthy', 'Tomato_Bacterial_spot', 'Tomato_Early_blight', 'Tomato_Late_blight', 'Tomato_Leaf_Mold', 'Tomato_Septoria_leaf_spot', 'Tomato_Spider_mites_Two_spotted_spider_mite', 'Tomato__Target_Spot', 'Tomato__Tomato_YellowLeaf__Curl_Virus', 'Tomato__Tomato_mosaic_virus', 'Tomato_healthy']\n"
          ]
        }
      ]
    },
    {
      "cell_type": "code",
      "source": [
        "train_num = training_set.samples\n",
        "valid_num = valid_set.samples"
      ],
      "metadata": {
        "execution": {
          "iopub.status.busy": "2024-03-08T05:25:59.977400Z",
          "iopub.execute_input": "2024-03-08T05:25:59.977786Z",
          "iopub.status.idle": "2024-03-08T05:25:59.982196Z",
          "shell.execute_reply.started": "2024-03-08T05:25:59.977742Z",
          "shell.execute_reply": "2024-03-08T05:25:59.981003Z"
        },
        "trusted": true,
        "id": "Z0h5BPXrGyjf"
      },
      "execution_count": 7,
      "outputs": []
    },
    {
      "cell_type": "markdown",
      "source": [
        "# Model Preparation"
      ],
      "metadata": {
        "id": "pkNRcUr8Gyjh"
      }
    },
    {
      "cell_type": "code",
      "source": [
        "base_model=VGG16(include_top=False,input_shape=(224,224,3))\n",
        "base_model.trainable=False"
      ],
      "metadata": {
        "execution": {
          "iopub.status.busy": "2024-03-08T05:24:10.718089Z",
          "iopub.execute_input": "2024-03-08T05:24:10.718375Z",
          "iopub.status.idle": "2024-03-08T05:24:14.443072Z",
          "shell.execute_reply.started": "2024-03-08T05:24:10.718346Z",
          "shell.execute_reply": "2024-03-08T05:24:14.442213Z"
        },
        "trusted": true,
        "colab": {
          "base_uri": "https://localhost:8080/"
        },
        "id": "IlY_TNX0Gyji",
        "outputId": "a5b80a8d-27ab-4893-8fa3-d811835f499b"
      },
      "execution_count": 8,
      "outputs": [
        {
          "output_type": "stream",
          "name": "stdout",
          "text": [
            "Downloading data from https://storage.googleapis.com/tensorflow/keras-applications/vgg16/vgg16_weights_tf_dim_ordering_tf_kernels_notop.h5\n",
            "\u001b[1m58889256/58889256\u001b[0m \u001b[32m━━━━━━━━━━━━━━━━━━━━\u001b[0m\u001b[37m\u001b[0m \u001b[1m0s\u001b[0m 0us/step\n"
          ]
        }
      ]
    },
    {
      "cell_type": "code",
      "source": [
        "classifier=keras.models.Sequential()\n",
        "classifier.add(base_model)\n",
        "classifier.add(Flatten())\n",
        "classifier.add(Dense(15,activation='softmax'))\n",
        "classifier.summary()"
      ],
      "metadata": {
        "execution": {
          "iopub.status.busy": "2024-03-08T05:26:13.943046Z",
          "iopub.execute_input": "2024-03-08T05:26:13.943379Z",
          "iopub.status.idle": "2024-03-08T05:26:14.024398Z",
          "shell.execute_reply.started": "2024-03-08T05:26:13.943352Z",
          "shell.execute_reply": "2024-03-08T05:26:14.023318Z"
        },
        "trusted": true,
        "colab": {
          "base_uri": "https://localhost:8080/",
          "height": 238
        },
        "id": "6C9dEMq9Gyjk",
        "outputId": "78f34f8f-97b4-4849-ffc5-75c2f62c0402"
      },
      "execution_count": 9,
      "outputs": [
        {
          "output_type": "display_data",
          "data": {
            "text/plain": [
              "\u001b[1mModel: \"sequential\"\u001b[0m\n"
            ],
            "text/html": [
              "<pre style=\"white-space:pre;overflow-x:auto;line-height:normal;font-family:Menlo,'DejaVu Sans Mono',consolas,'Courier New',monospace\"><span style=\"font-weight: bold\">Model: \"sequential\"</span>\n",
              "</pre>\n"
            ]
          },
          "metadata": {}
        },
        {
          "output_type": "display_data",
          "data": {
            "text/plain": [
              "┏━━━━━━━━━━━━━━━━━━━━━━━━━━━━━━━━━━━━━━┳━━━━━━━━━━━━━━━━━━━━━━━━━━━━━┳━━━━━━━━━━━━━━━━━┓\n",
              "┃\u001b[1m \u001b[0m\u001b[1mLayer (type)                        \u001b[0m\u001b[1m \u001b[0m┃\u001b[1m \u001b[0m\u001b[1mOutput Shape               \u001b[0m\u001b[1m \u001b[0m┃\u001b[1m \u001b[0m\u001b[1m        Param #\u001b[0m\u001b[1m \u001b[0m┃\n",
              "┡━━━━━━━━━━━━━━━━━━━━━━━━━━━━━━━━━━━━━━╇━━━━━━━━━━━━━━━━━━━━━━━━━━━━━╇━━━━━━━━━━━━━━━━━┩\n",
              "│ vgg16 (\u001b[38;5;33mFunctional\u001b[0m)                   │ (\u001b[38;5;45mNone\u001b[0m, \u001b[38;5;34m7\u001b[0m, \u001b[38;5;34m7\u001b[0m, \u001b[38;5;34m512\u001b[0m)           │      \u001b[38;5;34m14,714,688\u001b[0m │\n",
              "├──────────────────────────────────────┼─────────────────────────────┼─────────────────┤\n",
              "│ flatten (\u001b[38;5;33mFlatten\u001b[0m)                    │ (\u001b[38;5;45mNone\u001b[0m, \u001b[38;5;34m25088\u001b[0m)               │               \u001b[38;5;34m0\u001b[0m │\n",
              "├──────────────────────────────────────┼─────────────────────────────┼─────────────────┤\n",
              "│ dense (\u001b[38;5;33mDense\u001b[0m)                        │ (\u001b[38;5;45mNone\u001b[0m, \u001b[38;5;34m15\u001b[0m)                  │         \u001b[38;5;34m376,335\u001b[0m │\n",
              "└──────────────────────────────────────┴─────────────────────────────┴─────────────────┘\n"
            ],
            "text/html": [
              "<pre style=\"white-space:pre;overflow-x:auto;line-height:normal;font-family:Menlo,'DejaVu Sans Mono',consolas,'Courier New',monospace\">┏━━━━━━━━━━━━━━━━━━━━━━━━━━━━━━━━━━━━━━┳━━━━━━━━━━━━━━━━━━━━━━━━━━━━━┳━━━━━━━━━━━━━━━━━┓\n",
              "┃<span style=\"font-weight: bold\"> Layer (type)                         </span>┃<span style=\"font-weight: bold\"> Output Shape                </span>┃<span style=\"font-weight: bold\">         Param # </span>┃\n",
              "┡━━━━━━━━━━━━━━━━━━━━━━━━━━━━━━━━━━━━━━╇━━━━━━━━━━━━━━━━━━━━━━━━━━━━━╇━━━━━━━━━━━━━━━━━┩\n",
              "│ vgg16 (<span style=\"color: #0087ff; text-decoration-color: #0087ff\">Functional</span>)                   │ (<span style=\"color: #00d7ff; text-decoration-color: #00d7ff\">None</span>, <span style=\"color: #00af00; text-decoration-color: #00af00\">7</span>, <span style=\"color: #00af00; text-decoration-color: #00af00\">7</span>, <span style=\"color: #00af00; text-decoration-color: #00af00\">512</span>)           │      <span style=\"color: #00af00; text-decoration-color: #00af00\">14,714,688</span> │\n",
              "├──────────────────────────────────────┼─────────────────────────────┼─────────────────┤\n",
              "│ flatten (<span style=\"color: #0087ff; text-decoration-color: #0087ff\">Flatten</span>)                    │ (<span style=\"color: #00d7ff; text-decoration-color: #00d7ff\">None</span>, <span style=\"color: #00af00; text-decoration-color: #00af00\">25088</span>)               │               <span style=\"color: #00af00; text-decoration-color: #00af00\">0</span> │\n",
              "├──────────────────────────────────────┼─────────────────────────────┼─────────────────┤\n",
              "│ dense (<span style=\"color: #0087ff; text-decoration-color: #0087ff\">Dense</span>)                        │ (<span style=\"color: #00d7ff; text-decoration-color: #00d7ff\">None</span>, <span style=\"color: #00af00; text-decoration-color: #00af00\">15</span>)                  │         <span style=\"color: #00af00; text-decoration-color: #00af00\">376,335</span> │\n",
              "└──────────────────────────────────────┴─────────────────────────────┴─────────────────┘\n",
              "</pre>\n"
            ]
          },
          "metadata": {}
        },
        {
          "output_type": "display_data",
          "data": {
            "text/plain": [
              "\u001b[1m Total params: \u001b[0m\u001b[38;5;34m15,091,023\u001b[0m (57.57 MB)\n"
            ],
            "text/html": [
              "<pre style=\"white-space:pre;overflow-x:auto;line-height:normal;font-family:Menlo,'DejaVu Sans Mono',consolas,'Courier New',monospace\"><span style=\"font-weight: bold\"> Total params: </span><span style=\"color: #00af00; text-decoration-color: #00af00\">15,091,023</span> (57.57 MB)\n",
              "</pre>\n"
            ]
          },
          "metadata": {}
        },
        {
          "output_type": "display_data",
          "data": {
            "text/plain": [
              "\u001b[1m Trainable params: \u001b[0m\u001b[38;5;34m376,335\u001b[0m (1.44 MB)\n"
            ],
            "text/html": [
              "<pre style=\"white-space:pre;overflow-x:auto;line-height:normal;font-family:Menlo,'DejaVu Sans Mono',consolas,'Courier New',monospace\"><span style=\"font-weight: bold\"> Trainable params: </span><span style=\"color: #00af00; text-decoration-color: #00af00\">376,335</span> (1.44 MB)\n",
              "</pre>\n"
            ]
          },
          "metadata": {}
        },
        {
          "output_type": "display_data",
          "data": {
            "text/plain": [
              "\u001b[1m Non-trainable params: \u001b[0m\u001b[38;5;34m14,714,688\u001b[0m (56.13 MB)\n"
            ],
            "text/html": [
              "<pre style=\"white-space:pre;overflow-x:auto;line-height:normal;font-family:Menlo,'DejaVu Sans Mono',consolas,'Courier New',monospace\"><span style=\"font-weight: bold\"> Non-trainable params: </span><span style=\"color: #00af00; text-decoration-color: #00af00\">14,714,688</span> (56.13 MB)\n",
              "</pre>\n"
            ]
          },
          "metadata": {}
        }
      ]
    },
    {
      "cell_type": "code",
      "source": [
        "classifier.compile(optimizer='adam',\n",
        "              loss='categorical_crossentropy',\n",
        "              metrics=['accuracy'])"
      ],
      "metadata": {
        "execution": {
          "iopub.status.busy": "2024-03-08T05:26:20.123257Z",
          "iopub.execute_input": "2024-03-08T05:26:20.123596Z",
          "iopub.status.idle": "2024-03-08T05:26:20.173646Z",
          "shell.execute_reply.started": "2024-03-08T05:26:20.123568Z",
          "shell.execute_reply": "2024-03-08T05:26:20.172978Z"
        },
        "trusted": true,
        "id": "lqb9sP-fGyjl"
      },
      "execution_count": 10,
      "outputs": []
    },
    {
      "cell_type": "code",
      "source": [
        "#fitting images to CNN\n",
        "history = classifier.fit(training_set,\n",
        "                         steps_per_epoch=train_num//batch_size,\n",
        "                         validation_data=valid_set,\n",
        "                         epochs=10,\n",
        "                         validation_steps=valid_num//batch_size,\n",
        "                         )\n",
        "#saving model\n",
        "#filepath=\"Mymodel.hdf5\"\n",
        "#model.save(filepath)"
      ],
      "metadata": {
        "execution": {
          "iopub.status.busy": "2024-03-08T05:26:58.479489Z",
          "iopub.execute_input": "2024-03-08T05:26:58.479881Z",
          "iopub.status.idle": "2024-03-08T06:02:36.217690Z",
          "shell.execute_reply.started": "2024-03-08T05:26:58.479849Z",
          "shell.execute_reply": "2024-03-08T06:02:36.216117Z"
        },
        "trusted": true,
        "colab": {
          "base_uri": "https://localhost:8080/"
        },
        "id": "hsVS4uwWGyjn",
        "outputId": "2872cb1b-b4fe-488d-8288-af7f98bc2cab"
      },
      "execution_count": null,
      "outputs": [
        {
          "output_type": "stream",
          "name": "stderr",
          "text": [
            "/usr/local/lib/python3.11/dist-packages/keras/src/trainers/data_adapters/py_dataset_adapter.py:121: UserWarning: Your `PyDataset` class should call `super().__init__(**kwargs)` in its constructor. `**kwargs` can include `workers`, `use_multiprocessing`, `max_queue_size`. Do not pass these arguments to `fit()`, as they will be ignored.\n",
            "  self._warn_if_super_not_called()\n"
          ]
        },
        {
          "output_type": "stream",
          "name": "stdout",
          "text": [
            "Epoch 1/10\n",
            "\u001b[1m 85/112\u001b[0m \u001b[32m━━━━━━━━━━━━━━━\u001b[0m\u001b[37m━━━━━\u001b[0m \u001b[1m54s\u001b[0m 2s/step - accuracy: 0.4211 - loss: 2.0730"
          ]
        }
      ]
    },
    {
      "cell_type": "code",
      "source": [
        "#Saving our model\n",
        "filepath=\"Mymodel.h5\"\n",
        "classifier.save(filepath)"
      ],
      "metadata": {
        "execution": {
          "iopub.status.busy": "2024-03-08T06:02:36.378172Z",
          "iopub.execute_input": "2024-03-08T06:02:36.378542Z",
          "iopub.status.idle": "2024-03-08T06:02:36.586330Z",
          "shell.execute_reply.started": "2024-03-08T06:02:36.378505Z",
          "shell.execute_reply": "2024-03-08T06:02:36.585328Z"
        },
        "trusted": true,
        "id": "jmQK4scFGyjo"
      },
      "execution_count": null,
      "outputs": []
    },
    {
      "cell_type": "markdown",
      "source": [
        "Visualizing the Accuracy"
      ],
      "metadata": {
        "id": "gx8g1bASGyjp"
      }
    },
    {
      "cell_type": "code",
      "source": [
        "import matplotlib.pyplot as plt\n",
        "import seaborn as sns\n",
        "sns.set()\n",
        "\n",
        "acc = history.history['accuracy']\n",
        "val_acc = history.history['val_accuracy']\n",
        "loss = history.history['loss']\n",
        "val_loss = history.history['val_loss']\n",
        "epochs = range(1, len(loss) + 1)\n",
        "\n",
        "#accuracy plot\n",
        "plt.plot(epochs, acc, color='green', label='Training Accuracy')\n",
        "plt.plot(epochs, val_acc, color='blue', label='Validation Accuracy')\n",
        "plt.title('Training and Validation Accuracy')\n",
        "plt.ylabel('Accuracy')\n",
        "plt.xlabel('Epoch')\n",
        "plt.legend()\n",
        "\n",
        "plt.figure()\n",
        "#loss plot\n",
        "plt.plot(epochs, loss, color='pink', label='Training Loss')\n",
        "plt.plot(epochs, val_loss, color='red', label='Validation Loss')\n",
        "plt.title('Training and Validation Loss')\n",
        "plt.xlabel('Epoch')\n",
        "plt.ylabel('Loss')\n",
        "plt.legend()\n",
        "\n",
        "plt.show()"
      ],
      "metadata": {
        "execution": {
          "iopub.status.busy": "2024-03-08T06:02:36.587826Z",
          "iopub.execute_input": "2024-03-08T06:02:36.588227Z",
          "iopub.status.idle": "2024-03-08T06:02:37.286922Z",
          "shell.execute_reply.started": "2024-03-08T06:02:36.588184Z",
          "shell.execute_reply": "2024-03-08T06:02:37.286071Z"
        },
        "trusted": true,
        "id": "tC_jtuMzGyjp"
      },
      "execution_count": null,
      "outputs": []
    },
    {
      "cell_type": "code",
      "source": [
        "# predicting an image\n",
        "from keras.preprocessing import image\n",
        "import numpy as np\n",
        "image_path = \"../input/new-plant-diseases-dataset/test/test/TomatoEarlyBlight1.JPG\"\n",
        "new_img = image.load_img(image_path, target_size=(224, 224))\n",
        "img = image.img_to_array(new_img)\n",
        "img = np.expand_dims(img, axis=0)\n",
        "img = img/255\n",
        "\n",
        "print(\"Following is our prediction:\")\n",
        "prediction = classifier.predict(img)\n",
        "# decode the results into a list of tuples (class, description, probability)\n",
        "# (one such list for each sample in the batch)\n",
        "d = prediction.flatten()\n",
        "j = d.max()\n",
        "for index,item in enumerate(d):\n",
        "    if item == j:\n",
        "        class_name = li[index]\n",
        "\n",
        "#ploting image with predicted class name\n",
        "plt.figure(figsize = (4,4))\n",
        "plt.imshow(new_img)\n",
        "plt.axis('off')\n",
        "plt.title(class_name)\n",
        "plt.show()"
      ],
      "metadata": {
        "execution": {
          "iopub.status.busy": "2024-03-08T06:02:37.289428Z",
          "iopub.execute_input": "2024-03-08T06:02:37.289831Z",
          "iopub.status.idle": "2024-03-08T06:02:37.776055Z",
          "shell.execute_reply.started": "2024-03-08T06:02:37.289770Z",
          "shell.execute_reply": "2024-03-08T06:02:37.775193Z"
        },
        "trusted": true,
        "id": "iH9JF7nxGyjq"
      },
      "execution_count": null,
      "outputs": []
    },
    {
      "cell_type": "code",
      "source": [
        "def plot_confusion_matrix(cm, classes,\n",
        "                          normalize=False,\n",
        "                          title='Confusion matrix',\n",
        "                          cmap=plt.cm.Blues,\n",
        "                          fontsize=10):\n",
        "    \"\"\"\n",
        "    This function prints and plots the confusion matrix.\n",
        "    Normalization can be applied by setting `normalize=True`.\n",
        "    \"\"\"\n",
        "    if normalize:\n",
        "        cm = cm.astype('float') / cm.sum(axis=1)[:, np.newaxis]\n",
        "        print(\"Normalized confusion matrix\")\n",
        "    else:\n",
        "        print('Confusion matrix, without normalization')\n",
        "\n",
        "    plt.imshow(cm, interpolation='nearest', cmap=cmap)\n",
        "    plt.title(title)\n",
        "    plt.colorbar()\n",
        "    plt.xticks([])\n",
        "    plt.yticks([])\n",
        "\n",
        "    fmt = '.0f' if not normalize else '.2f'\n",
        "    thresh = cm.max() / 2.\n",
        "    for i in range(cm.shape[0]):\n",
        "        for j in range(cm.shape[1]):\n",
        "            plt.text(j, i, format(cm[i, j], fmt),\n",
        "                     horizontalalignment=\"center\",\n",
        "                     color=\"white\" if cm[i, j] > thresh else \"black\", fontsize=fontsize)\n",
        "\n",
        "    plt.ylabel('True label')\n",
        "    plt.xlabel('Predicted label')\n",
        "    plt.tight_layout()\n",
        "\n",
        "# Predict labels for images in the test directory\n",
        "test_datagen = ImageDataGenerator(rescale=1./255)\n",
        "test_set = test_datagen.flow_from_directory(testdir,\n",
        "                                            target_size=(224, 224),\n",
        "                                            batch_size=1,\n",
        "                                            class_mode='categorical',\n",
        "                                            shuffle=False)\n",
        "\n",
        "test_num = test_set.samples\n",
        "true_labels = test_set.classes\n",
        "\n",
        "predictions = model.predict(test_set, steps=test_num)\n",
        "\n",
        "# Generate confusion matrix\n",
        "conf_matrix = confusion_matrix(true_labels, np.argmax(predictions, axis=1))\n",
        "\n",
        "# Plot confusion matrix without labels\n",
        "plt.figure(figsize=(10, 8))\n",
        "plot_confusion_matrix(conf_matrix, classes=test_set.class_indices.keys(), normalize=True,\n",
        "                      title='Normalized Confusion Matrix')\n",
        "plt.show()\n"
      ],
      "metadata": {
        "execution": {
          "iopub.status.busy": "2024-03-08T06:15:00.467699Z",
          "iopub.execute_input": "2024-03-08T06:15:00.468109Z",
          "iopub.status.idle": "2024-03-08T06:15:26.220946Z",
          "shell.execute_reply.started": "2024-03-08T06:15:00.468075Z",
          "shell.execute_reply": "2024-03-08T06:15:26.219892Z"
        },
        "trusted": true,
        "id": "zlKiNi0gGyjq"
      },
      "execution_count": null,
      "outputs": []
    },
    {
      "cell_type": "code",
      "source": [
        "def plot_confusion_matrix(cm, classes,\n",
        "                          normalize=False,\n",
        "                          title='Confusion matrix',\n",
        "                          cmap=plt.cm.Blues,\n",
        "                          fontsize=10):\n",
        "    \"\"\"\n",
        "    This function prints and plots the confusion matrix.\n",
        "    Normalization can be applied by setting `normalize=True`.\n",
        "    \"\"\"\n",
        "    if normalize:\n",
        "        cm = cm.astype('float') / cm.sum(axis=1)[:, np.newaxis]\n",
        "        print(\"Normalized confusion matrix\")\n",
        "    else:\n",
        "        print('Confusion matrix, without normalization')\n",
        "\n",
        "    plt.imshow(cm, interpolation='nearest', cmap=cmap)\n",
        "    plt.title(title)\n",
        "    plt.colorbar()\n",
        "    plt.xticks([])\n",
        "    plt.yticks([])\n",
        "\n",
        "    fmt = '.0f' if not normalize else '.2f'\n",
        "    thresh = cm.max() / 2.\n",
        "    for i in range(cm.shape[0]):\n",
        "        for j in range(cm.shape[1]):\n",
        "            plt.text(j, i, format(cm[i, j], fmt),\n",
        "                     horizontalalignment=\"center\",\n",
        "                     color=\"white\" if cm[i, j] > thresh else \"black\", fontsize=fontsize)\n",
        "\n",
        "    plt.ylabel('True label')\n",
        "    plt.xlabel('Predicted label')\n",
        "    plt.tight_layout()\n",
        "\n",
        "# Predict labels for images in the test directory\n",
        "test_datagen = ImageDataGenerator(rescale=1./255)\n",
        "test_set = test_datagen.flow_from_directory(testdir,\n",
        "                                            target_size=(224, 224),\n",
        "                                            batch_size=1,\n",
        "                                            class_mode='categorical',\n",
        "                                            shuffle=False)\n",
        "\n",
        "test_num = test_set.samples\n",
        "true_labels = test_set.classes\n",
        "\n",
        "predictions = model.predict(test_set, steps=test_num)\n",
        "\n",
        "# Generate confusion matrix\n",
        "conf_matrix = confusion_matrix(true_labels, np.argmax(predictions, axis=1))\n",
        "\n",
        "# Plot confusion matrix without labels\n",
        "plt.figure(figsize=(10, 8))\n",
        "plot_confusion_matrix(conf_matrix, classes=test_set.class_indices.keys(),\n",
        "                      title='Confusion Matrix')\n",
        "plt.show()\n"
      ],
      "metadata": {
        "execution": {
          "iopub.status.busy": "2024-03-08T06:17:21.506590Z",
          "iopub.execute_input": "2024-03-08T06:17:21.507081Z",
          "iopub.status.idle": "2024-03-08T06:17:47.137092Z",
          "shell.execute_reply.started": "2024-03-08T06:17:21.507032Z",
          "shell.execute_reply": "2024-03-08T06:17:47.136133Z"
        },
        "trusted": true,
        "id": "vWWCL6k4Gyjr"
      },
      "execution_count": null,
      "outputs": []
    },
    {
      "cell_type": "code",
      "source": [
        "from sklearn.metrics import accuracy_score, precision_score, recall_score, f1_score\n",
        "\n",
        "accuracy = accuracy_score(true_labels, np.argmax(predictions, axis=1))\n",
        "precision = precision_score(true_labels, np.argmax(predictions, axis=1), average='weighted')\n",
        "recall = recall_score(true_labels, np.argmax(predictions, axis=1), average='weighted')\n",
        "f1 = f1_score(true_labels, np.argmax(predictions, axis=1), average='weighted')\n",
        "\n",
        "# Print evaluation metrics\n",
        "print(\"Accuracy:\", accuracy)\n",
        "print(\"Precision:\", precision)\n",
        "print(\"Recall:\", recall)\n",
        "print(\"F1-score:\", f1)\n",
        "\n",
        "\n"
      ],
      "metadata": {
        "execution": {
          "iopub.status.busy": "2024-03-08T06:20:56.924952Z",
          "iopub.execute_input": "2024-03-08T06:20:56.925303Z",
          "iopub.status.idle": "2024-03-08T06:20:56.944629Z",
          "shell.execute_reply.started": "2024-03-08T06:20:56.925274Z",
          "shell.execute_reply": "2024-03-08T06:20:56.943671Z"
        },
        "trusted": true,
        "id": "Bvx7f3ZxGyjs"
      },
      "execution_count": null,
      "outputs": []
    },
    {
      "cell_type": "code",
      "source": [
        "from PIL import Image, ImageDraw, ImageFont\n",
        "import matplotlib.pyplot as plt\n",
        "\n",
        "# Create a new image with white background\n",
        "image = Image.new(\"RGB\", (400, 300), \"white\")\n",
        "\n",
        "# Initialize the drawing context\n",
        "draw = ImageDraw.Draw(image)\n",
        "\n",
        "# Define font and colors\n",
        "font_path = \"/usr/share/fonts/truetype/dejavu/DejaVuSans-Bold.ttf\"  # Specify a font file path available in your environment\n",
        "text_size = 16\n",
        "colors = [\"black\", \"blue\", \"brown\", \"red\"]\n",
        "metrics = [\"Accuracy\", \"Precision\", \"Recall\", \"F1-score\"]\n",
        "values = [accuracy, precision, recall, f1]\n",
        "\n",
        "# Draw the evaluation metrics on the image\n",
        "x = 50\n",
        "y = 50\n",
        "for metric, value, color in zip(metrics, values, colors):\n",
        "    text = f\"{metric}: {value:.4f}\"\n",
        "    draw.text((x, y), text, fill=color, font=ImageFont.truetype(font_path, text_size))\n",
        "    y += 30\n",
        "\n",
        "# Display the image\n",
        "plt.imshow(image)\n",
        "plt.axis('off')  # Hide axis\n",
        "plt.show()\n"
      ],
      "metadata": {
        "execution": {
          "iopub.status.busy": "2024-03-08T06:31:16.107208Z",
          "iopub.execute_input": "2024-03-08T06:31:16.107579Z",
          "iopub.status.idle": "2024-03-08T06:31:16.308664Z",
          "shell.execute_reply.started": "2024-03-08T06:31:16.107549Z",
          "shell.execute_reply": "2024-03-08T06:31:16.307764Z"
        },
        "trusted": true,
        "id": "bNc0EqSCGyjt"
      },
      "execution_count": null,
      "outputs": []
    },
    {
      "cell_type": "code",
      "source": [
        "from keras.utils.vis_utils import plot_model\n",
        "from keras.models import load_model\n",
        "import matplotlib.pyplot as plt\n",
        "\n",
        "# Save the model with both architecture and weights\n",
        "model.save('/kaggle/working/Mymodel_full.h5')\n",
        "\n",
        "# Load the model with architecture and weights\n",
        "load_model = load_model('/kaggle/working/Mymodel_full.h5')\n",
        "\n",
        "# Plot the architecture of the model\n",
        "plot_model(load_model, show_shapes=True, show_layer_names=True, to_file='model_architecture.png')\n",
        "\n",
        "# Display the image\n",
        "img = plt.imread('model_architecture.png')\n",
        "plt.imshow(img)\n",
        "plt.axis('off')  # Hide axis\n",
        "\n",
        "# Set font properties\n",
        "font = {'family': 'serif',\n",
        "        'color': 'black',  # Dark color\n",
        "        'weight': 'bold',  # Bold font weight\n",
        "        'size': 12,        # Adjust font size as needed\n",
        "       }\n",
        "\n",
        "# Apply font properties to all text elements\n",
        "for text in plt.gca().texts:\n",
        "    text.set_fontproperties(font)\n",
        "\n",
        "plt.show()\n"
      ],
      "metadata": {
        "execution": {
          "iopub.status.busy": "2024-03-08T06:39:14.732629Z",
          "iopub.execute_input": "2024-03-08T06:39:14.733044Z",
          "iopub.status.idle": "2024-03-08T06:39:17.416318Z",
          "shell.execute_reply.started": "2024-03-08T06:39:14.733010Z",
          "shell.execute_reply": "2024-03-08T06:39:17.415264Z"
        },
        "trusted": true,
        "id": "AknrB7iiGyjv"
      },
      "execution_count": null,
      "outputs": []
    },
    {
      "cell_type": "code",
      "source": [],
      "metadata": {
        "id": "g-WgU-D8KKsN"
      },
      "execution_count": null,
      "outputs": []
    }
  ]
}