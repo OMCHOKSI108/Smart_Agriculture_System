{
  "cells": [
    {
      "cell_type": "markdown",
      "metadata": {
        "id": "view-in-github",
        "colab_type": "text"
      },
      "source": [
        "<a href=\"https://colab.research.google.com/github/haripatel07/Smart_Agriculture_System/blob/main/app.ipynb\" target=\"_parent\"><img src=\"https://colab.research.google.com/assets/colab-badge.svg\" alt=\"Open In Colab\"/></a>"
      ]
    },
    {
      "cell_type": "code",
      "source": [],
      "metadata": {
        "id": "ZN0exemu82EO"
      },
      "execution_count": null,
      "outputs": []
    },
    {
      "cell_type": "code",
      "execution_count": null,
      "metadata": {
        "colab": {
          "base_uri": "https://localhost:8080/"
        },
        "id": "4JaQDsHT8rgo",
        "outputId": "2be5ea58-93c1-424f-8e58-ada5c208e425"
      },
      "outputs": [
        {
          "output_type": "stream",
          "name": "stdout",
          "text": [
            " * Serving Flask app '__main__'\n",
            " * Debug mode: on\n"
          ]
        },
        {
          "output_type": "stream",
          "name": "stderr",
          "text": [
            "INFO:werkzeug:\u001b[31m\u001b[1mWARNING: This is a development server. Do not use it in a production deployment. Use a production WSGI server instead.\u001b[0m\n",
            " * Running on all addresses (0.0.0.0)\n",
            " * Running on http://127.0.0.1:5000\n",
            " * Running on http://172.28.0.12:5000\n",
            "INFO:werkzeug:\u001b[33mPress CTRL+C to quit\u001b[0m\n",
            "INFO:werkzeug: * Restarting with stat\n"
          ]
        }
      ],
      "source": [
        "from flask import Flask, request, jsonify\n",
        "import os\n",
        "import numpy as np\n",
        "from tensorflow.keras.applications import MobileNetV2\n",
        "from tensorflow.keras.layers import GlobalAveragePooling2D, Dense, BatchNormalization, Dropout\n",
        "from tensorflow.keras.models import Model\n",
        "from tensorflow.keras.preprocessing import image\n",
        "from werkzeug.utils import secure_filename\n",
        "\n",
        "# Initialize Flask app\n",
        "app = Flask(__name__)\n",
        "\n",
        "# Configuration\n",
        "UPLOAD_FOLDER = 'static/uploads/'\n",
        "app.config['UPLOAD_FOLDER'] = UPLOAD_FOLDER\n",
        "ALLOWED_EXTENSIONS = {'png', 'jpg', 'jpeg'}\n",
        "\n",
        "# Define and load the model for plant disease classification\n",
        "base_model = MobileNetV2(weights='imagenet', include_top=False, input_shape=(224, 224, 3))\n",
        "x = base_model.output\n",
        "x = GlobalAveragePooling2D()(x)\n",
        "x = Dense(1024, activation='relu')(x)\n",
        "x = Dense(512, activation='relu')(x)\n",
        "x = BatchNormalization()(x)\n",
        "x = Dropout(0.2)(x)\n",
        "prediction = Dense(15, activation='softmax')(x)\n",
        "model = Model(inputs=base_model.input, outputs=prediction)\n",
        "model.load_weights('MobileNet_V2.h5')  # Load weights instead of the full model\n",
        "model.compile(optimizer='adam', loss='categorical_crossentropy', metrics=['accuracy'])\n",
        "\n",
        "# Class names for plant diseases (replace with your actual class names)\n",
        "class_names = [\n",
        "    'class1', 'class2', 'class3', 'class4', 'class5', 'class6', 'class7',\n",
        "    'class8', 'class9', 'class10', 'class11', 'class12', 'class13', 'class14', 'class15'\n",
        "]  # Update this with your 15 plant disease class names from train_data_generator.class_indices\n",
        "\n",
        "# Function to check allowed file extensions\n",
        "def allowed_file(filename):\n",
        "    return '.' in filename and filename.rsplit('.', 1)[1].lower() in ALLOWED_EXTENSIONS\n",
        "\n",
        "# Function to preprocess the uploaded image\n",
        "def preprocess_image(img_path):\n",
        "    img = image.load_img(img_path, target_size=(224, 224))\n",
        "    img_array = image.img_to_array(img)\n",
        "    img_array = np.expand_dims(img_array, axis=0)\n",
        "    img_array = img_array / 255.0\n",
        "    return img_array\n",
        "\n",
        "# Simple rule-based irrigation recommendation (placeholder)\n",
        "def recommend_irrigation(temperature, humidity, soil_moisture):\n",
        "    try:\n",
        "        temp = float(temperature)\n",
        "        hum = float(humidity)\n",
        "        soil = float(soil_moisture)\n",
        "\n",
        "        if soil < 30:  # Low soil moisture\n",
        "            if temp > 30 and hum < 50:  # Hot and dry\n",
        "                return \"Irrigation highly recommended: Low soil moisture, high temperature, and low humidity.\"\n",
        "            elif temp > 25:  # Warm\n",
        "                return \"Irrigation recommended: Low soil moisture and warm temperature.\"\n",
        "            else:\n",
        "                return \"Irrigation suggested: Low soil moisture.\"\n",
        "        elif soil < 50 and temp > 30:  # Moderate soil moisture, very hot\n",
        "            return \"Irrigation suggested: Moderate soil moisture but high temperature.\"\n",
        "        else:\n",
        "            return \"No irrigation needed: Soil moisture is adequate.\"\n",
        "    except ValueError:\n",
        "        return \"Invalid input: Please provide numeric values.\"\n",
        "\n",
        "# Home route\n",
        "@app.route('/', methods=['GET'])\n",
        "def home():\n",
        "    return app.send_static_file('index.html')  # Serve index.html from static folder\n",
        "\n",
        "# Plant disease prediction route\n",
        "@app.route('/predict_disease', methods=['POST'])\n",
        "def predict_disease():\n",
        "    if 'file' not in request.files:\n",
        "        return jsonify({'error': 'No file part'}), 400\n",
        "\n",
        "    file = request.files['file']\n",
        "\n",
        "    if file.filename == '':\n",
        "        return jsonify({'error': 'No selected file'}), 400\n",
        "\n",
        "    if file and allowed_file(file.filename):\n",
        "        filename = secure_filename(file.filename)\n",
        "        filepath = os.path.join(app.config['UPLOAD_FOLDER'], filename)\n",
        "        file.save(filepath)\n",
        "\n",
        "        # Preprocess the image\n",
        "        processed_image = preprocess_image(filepath)\n",
        "\n",
        "        # Make prediction\n",
        "        predictions = model.predict(processed_image)\n",
        "        predicted_class_idx = np.argmax(predictions, axis=1)[0]\n",
        "        predicted_class = class_names[predicted_class_idx]\n",
        "        confidence = float(np.max(predictions)) * 100\n",
        "\n",
        "        # Return JSON response\n",
        "        return jsonify({\n",
        "            'prediction': f\"{predicted_class} (Confidence: {confidence:.2f}%)\"\n",
        "        })\n",
        "    else:\n",
        "        return jsonify({'error': 'Invalid file format. Allowed formats: png, jpg, jpeg'}), 400\n",
        "\n",
        "# Irrigation recommendation route\n",
        "@app.route('/recommend_irrigation', methods=['POST'])\n",
        "def recommend_irrigation_route():\n",
        "    data = request.get_json()\n",
        "    if not data or 'temperature' not in data or 'humidity' not in data or 'soil_moisture' not in data:\n",
        "        return jsonify({'error': 'Missing required fields'}), 400\n",
        "\n",
        "    temperature = data['temperature']\n",
        "    humidity = data['humidity']\n",
        "    soil_moisture = data['soil_moisture']\n",
        "\n",
        "    recommendation = recommend_irrigation(temperature, humidity, soil_moisture)\n",
        "\n",
        "    # Return JSON response\n",
        "    return jsonify({'recommendation': recommendation})\n",
        "\n",
        "# Run the app\n",
        "if __name__ == '__main__':\n",
        "    os.makedirs(app.config['UPLOAD_FOLDER'], exist_ok=True)  # Create upload folder if it doesn't exist\n",
        "    app.static_folder = 'static'  # Set static folder\n",
        "    app.run(debug=True, host='0.0.0.0', port=5000)"
      ]
    },
    {
      "cell_type": "code",
      "source": [],
      "metadata": {
        "id": "VWzYE4aYCTLW"
      },
      "execution_count": null,
      "outputs": []
    },
    {
      "cell_type": "code",
      "source": [],
      "metadata": {
        "id": "i8awtL-OB7Tl"
      },
      "execution_count": null,
      "outputs": []
    },
    {
      "cell_type": "code",
      "source": [],
      "metadata": {
        "id": "D1oaMn5A-GTP"
      },
      "execution_count": null,
      "outputs": []
    }
  ],
  "metadata": {
    "language_info": {
      "name": "python"
    },
    "colab": {
      "provenance": [],
      "gpuType": "T4",
      "include_colab_link": true
    },
    "kernelspec": {
      "name": "python3",
      "display_name": "Python 3"
    },
    "accelerator": "GPU"
  },
  "nbformat": 4,
  "nbformat_minor": 0
}